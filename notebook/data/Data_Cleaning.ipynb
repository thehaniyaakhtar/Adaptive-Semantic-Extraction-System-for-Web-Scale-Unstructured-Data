{
  "nbformat": 4,
  "nbformat_minor": 0,
  "metadata": {
    "colab": {
      "private_outputs": true,
      "provenance": []
    },
    "kernelspec": {
      "name": "python3",
      "display_name": "Python 3"
    },
    "language_info": {
      "name": "python"
    }
  },
  "cells": [
    {
      "cell_type": "markdown",
      "source": [
        "##Student Performance Indicator\n",
        "####Lifecycle of Machine Learning Project\n",
        "\n",
        "*   Understanding the Problem Statement\n",
        "*   Data Collection\n",
        "*   Data Checks to perform\n",
        "*   EDA\n",
        "*   Data Pre Processing\n",
        "*   Model Training\n",
        "*   Choose Best Model\n",
        "\n"
      ],
      "metadata": {
        "id": "DB9EBLkwUX6-"
      }
    },
    {
      "cell_type": "markdown",
      "source": [
        "### 1) Problem Statement\n",
        "*   This project understands how the student's performance is affcted by other variables like Gender, Ethinicity, Parental Education Levels and Test *Preparation* Course"
      ],
      "metadata": {
        "id": "dvtonWzWVCnS"
      }
    },
    {
      "cell_type": "markdown",
      "source": [
        "### 2) Data Collection\n",
        "*   Dataset Source - https://www.kaggle.com/datasets/spscientist/students-performance-in-exams?datasetId=74977\n",
        "\n",
        "*   The data consists of 8 columns and 1000 rows.\n",
        "\n",
        "### 2.1 Import Data and required Packages\n",
        "\n",
        "Importing Pandas, Numpy, Matplotlib, Seaborn and Warnings Library.\n",
        "\n"
      ],
      "metadata": {
        "id": "JCz-i8mCVgbl"
      }
    },
    {
      "cell_type": "code",
      "source": [
        "import numpy as np\n",
        "import pandas as pd\n",
        "import matplotlib.pyplot as plt\n",
        "%matplotlib inline\n",
        "import seaborn as sns\n",
        "import warnings\n",
        "warnings.filterwarnings('ignore')"
      ],
      "metadata": {
        "id": "PXkGQNXsVCKJ"
      },
      "execution_count": null,
      "outputs": []
    },
    {
      "cell_type": "markdown",
      "source": [
        "Import CSV Data as Pandas DataFrame\n",
        "\n"
      ],
      "metadata": {
        "id": "SWtlmqIpWmH8"
      }
    },
    {
      "cell_type": "code",
      "execution_count": null,
      "metadata": {
        "id": "EmshiuY6US-f"
      },
      "outputs": [],
      "source": [
        "df = pd.read_csv('/content/stud.csv')"
      ]
    },
    {
      "cell_type": "markdown",
      "source": [
        "Checking Records\n",
        "\n"
      ],
      "metadata": {
        "id": "604klQu7dMAZ"
      }
    },
    {
      "cell_type": "code",
      "source": [
        "df.head()"
      ],
      "metadata": {
        "id": "Y4muPK2_WvFp"
      },
      "execution_count": null,
      "outputs": []
    },
    {
      "cell_type": "code",
      "source": [
        "df.columns"
      ],
      "metadata": {
        "id": "AMzpzKGEZhoZ"
      },
      "execution_count": null,
      "outputs": []
    },
    {
      "cell_type": "markdown",
      "source": [
        "####Dataset Information\n",
        "\n",
        "\n",
        "\n",
        "*   gender : sex of students -> (Male/female)\n",
        "*   race/ethnicity : ethnicity of students -> (Group A, B,C, D,E)\n",
        "*   parental level of education : parents' final education ->(bachelor's degree,some college,master's degree,associate's degree,high school)\n",
        "*   lunch : having lunch before test (standard or free/reduced)\n",
        "*   test preparation course : complete or not complete before test\n",
        "*   math score\n",
        "*   reading score\n",
        "*   writing score\n"
      ],
      "metadata": {
        "id": "ggtDR8MsdQ61"
      }
    },
    {
      "cell_type": "markdown",
      "source": [
        "###Data Checks to perform\n",
        "*  Check Missing values\n",
        "*  Check Duplicates\n",
        "* Check data type\n",
        "* Check the number of unique values of each column\n",
        "* Check statistics of data set\n",
        "* Check various categories present in the different categorical column"
      ],
      "metadata": {
        "id": "_2oLKd0ydvmR"
      }
    },
    {
      "cell_type": "markdown",
      "source": [
        "####3.1 Check Missing Values"
      ],
      "metadata": {
        "id": "ecrpRs5weNxf"
      }
    },
    {
      "cell_type": "code",
      "source": [
        "df.isnull().sum()"
      ],
      "metadata": {
        "id": "2p_iEVpjZ_Xf"
      },
      "execution_count": null,
      "outputs": []
    },
    {
      "cell_type": "markdown",
      "source": [
        "There are no misisng values in the data set\n"
      ],
      "metadata": {
        "id": "E89cErIHeWIj"
      }
    },
    {
      "cell_type": "markdown",
      "source": [
        "####3.2 Check Duplicates"
      ],
      "metadata": {
        "id": "M05dqHQOee_R"
      }
    },
    {
      "cell_type": "code",
      "source": [
        "df.duplicated().sum()"
      ],
      "metadata": {
        "id": "T7XsRSHVeVBF"
      },
      "execution_count": null,
      "outputs": []
    },
    {
      "cell_type": "markdown",
      "source": [
        "There are no duplicate values in the dataset"
      ],
      "metadata": {
        "id": "X7Vte-7zemkt"
      }
    },
    {
      "cell_type": "markdown",
      "source": [
        "####3.3 Check data types"
      ],
      "metadata": {
        "id": "wMm7hGo3euQJ"
      }
    },
    {
      "cell_type": "code",
      "source": [
        "df.info()"
      ],
      "metadata": {
        "id": "_vamBl39ed7C"
      },
      "execution_count": null,
      "outputs": []
    },
    {
      "cell_type": "code",
      "source": [
        "df.nunique()"
      ],
      "metadata": {
        "id": "sh1KTlxAe_K1"
      },
      "execution_count": null,
      "outputs": []
    },
    {
      "cell_type": "markdown",
      "source": [
        "####3.4 Checking statistics of dataset"
      ],
      "metadata": {
        "id": "5Cp09i3hfQYj"
      }
    },
    {
      "cell_type": "code",
      "source": [
        "df.describe()"
      ],
      "metadata": {
        "id": "p9Ag-eyjfL7u"
      },
      "execution_count": null,
      "outputs": []
    },
    {
      "cell_type": "markdown",
      "source": [
        "####Insights\n",
        "* All means are close to each other; between 66 and 69\n",
        "* All standard deviations are also close; between 14.6 and 15.19\n",
        "* Minimum score for:\n",
        "    * Math: 0\n",
        "    * Reading: 17\n",
        "    * Writing: 18"
      ],
      "metadata": {
        "id": "K7A7O_gTfXRf"
      }
    },
    {
      "cell_type": "markdown",
      "source": [
        "####3.7 Exploring Data"
      ],
      "metadata": {
        "id": "XVILZMEuf-Io"
      }
    },
    {
      "cell_type": "code",
      "source": [
        "df.head()"
      ],
      "metadata": {
        "id": "E7b8wb-NfVpp"
      },
      "execution_count": null,
      "outputs": []
    },
    {
      "cell_type": "code",
      "source": [
        "print(\"Categories in 'gender' variable: \", end = '')\n",
        "print(df['gender'].unique())\n",
        "\n",
        "print(\"Categories in 'race_ethnicity' variable: \", end = '')\n",
        "print(df['race_ethnicity'].unique())\n",
        "\n",
        "print(\"Categories in 'lunch' variable: \", end = '')\n",
        "print(df['lunch'].unique())\n",
        "\n",
        "print(\"Categories in 'test_preparation_course\t' variable: \", end = '')\n",
        "print(df['test_preparation_course'].unique())\n",
        "\n",
        "print(\"Categories in 'parental_level_of_education' variable: \", end = '')\n",
        "print(df['parental_level_of_education'].unique())"
      ],
      "metadata": {
        "id": "t-BPTjGef_6e"
      },
      "execution_count": null,
      "outputs": []
    },
    {
      "cell_type": "code",
      "source": [
        "# Defining numerical and categorical columns\n",
        "numeric_features = [feature for feature in df.columns if df[feature].dtype != 'O']\n",
        "categorical_features = [feature for feature in df.columns if df[feature].dtype == 'O']\n",
        "\n",
        "#printing columns\n",
        "print('We have {} numerical features :{}'.format(len(numeric_features), numeric_features))\n",
        "print('\\n We have {} categorical features: {}'.format(len(categorical_features), categorical_features))"
      ],
      "metadata": {
        "id": "kK7pOw8Kgk-H"
      },
      "execution_count": null,
      "outputs": []
    },
    {
      "cell_type": "markdown",
      "source": [
        "###3.8 Adding columns for \"Total Score\" and \"Average\""
      ],
      "metadata": {
        "id": "nOHHh1f7mEn0"
      }
    },
    {
      "cell_type": "code",
      "source": [
        "df['total_score'] = df['math_score'] + df['writing_score'] + df['reading_score']\n",
        "df['average'] = round(df['total_score'] / 3, 2)\n",
        "df.head()"
      ],
      "metadata": {
        "id": "m1S4zKg6i__k"
      },
      "execution_count": null,
      "outputs": []
    },
    {
      "cell_type": "code",
      "source": [
        "reading_full = df[df['reading_score'] == 100]['average'].count()\n",
        "writing_full = df[df['writing_score'] == 100]['average'].count()\n",
        "math_full = df[df['math_score'] == 100]['average'].count()\n",
        "\n",
        "print(f'Number of students with full marks in Math: ', math_full)\n",
        "print(f'Number of students with full marks in Writing: ', writing_full)\n",
        "print(f'Number of students with full marks in reading: ', reading_full)"
      ],
      "metadata": {
        "id": "ct6-qTR8mgUQ"
      },
      "execution_count": null,
      "outputs": []
    },
    {
      "cell_type": "code",
      "source": [
        "reading_less = df[df['reading_score'] < 20]['average'].count()\n",
        "writing_less = df[df['writing_score'] < 20]['average'].count()\n",
        "math_less = df[df['math_score'] < 20]['average'].count()\n",
        "\n",
        "print(f'Number of students with marks less than 20 in Math: ', math_less)\n",
        "print(f'Number of students with marks less than 20 in Writing: ', writing_less)\n",
        "print(f'Number of students with marks less than 20 in Reading: ', reading_less)\n"
      ],
      "metadata": {
        "id": "HMyB4BiopSRT"
      },
      "execution_count": null,
      "outputs": []
    },
    {
      "cell_type": "markdown",
      "source": [
        "####Insights:\n",
        "* People have performed the worst in Math\n",
        "* Best performance in reading section\n"
      ],
      "metadata": {
        "id": "Y8lhLU24qBLm"
      }
    },
    {
      "cell_type": "markdown",
      "source": [
        "###4. Exploring Data (Visualization)\n",
        "#### 4.1 Visualize average score distribution to make some conclusion.\n",
        "* Histogram\n",
        "* Kernel Distribution Function (KDE)"
      ],
      "metadata": {
        "id": "ntwHO13-qQKb"
      }
    },
    {
      "cell_type": "code",
      "source": [
        "fig, axs = plt.subplots(1, 2, figsize = (15, 7))\n",
        "\n",
        "plt.subplot(121)\n",
        "sns.histplot(data = df, x = 'total_score', bins = 30, kde = True, color = 'g')\n",
        "\n",
        "plt.subplot(122)\n",
        "sns.histplot(data = df, x = 'total_score', kde = True, hue = 'gender')\n",
        "\n",
        "plt.show()"
      ],
      "metadata": {
        "id": "STwHP1m5p9E5"
      },
      "execution_count": null,
      "outputs": []
    },
    {
      "cell_type": "markdown",
      "source": [
        "Female students tend to perform better"
      ],
      "metadata": {
        "id": "-Yo-65R-3y71"
      }
    },
    {
      "cell_type": "code",
      "source": [
        "plt.subplots(1, 3, figsize = (25, 6))\n",
        "plt.subplot(131)\n",
        "\n",
        "sns.histplot(data = df, x = 'average', kde = True, hue = 'lunch')\n",
        "plt.subplot(132)\n",
        "\n",
        "sns.histplot(data = df[df.gender == 'female'], x = 'average', kde = True, hue = 'lunch')\n",
        "plt.subplot(133)\n",
        "\n",
        "sns.histplot(data = df[df.gender == 'male'], x = 'average', kde = True, hue = 'lunch')\n",
        "plt.show()"
      ],
      "metadata": {
        "id": "m7XyDR_o3geQ"
      },
      "execution_count": null,
      "outputs": []
    },
    {
      "cell_type": "markdown",
      "source": [
        "* Standard lunch helps perform better in exams, male or female"
      ],
      "metadata": {
        "id": "BP1RHVZT8VmA"
      }
    },
    {
      "cell_type": "code",
      "source": [
        "plt.subplots(1, 3, figsize = (25, 6))\n",
        "plt.subplot(131)\n",
        "\n",
        "sns.histplot(data = df, x = 'average', kde = True, hue = 'race_ethnicity')\n",
        "plt.subplot(132)\n",
        "\n",
        "sns.histplot(data = df[df.gender == 'female'], x = 'average', kde = True, hue = 'race_ethnicity')\n",
        "plt.subplot(133)\n",
        "\n",
        "sns.histplot(data = df[df.gender == 'male'], x = 'average', kde = True, hue = 'race_ethnicity')\n",
        "plt.show()\n"
      ],
      "metadata": {
        "id": "gyQTUxq_7tYT"
      },
      "execution_count": null,
      "outputs": []
    },
    {
      "cell_type": "markdown",
      "source": [
        "Group A and B tend to perform poorly irrespective of gender[link text]"
      ],
      "metadata": {
        "id": "pbIXGegeKYXg"
      }
    },
    {
      "cell_type": "markdown",
      "source": [
        "####4.2 Maximum score of students in all 3 subjects"
      ],
      "metadata": {
        "id": "IC9qoeUEKhkA"
      }
    },
    {
      "cell_type": "code",
      "source": [
        "plt.figure(figsize = (18, 8))\n",
        "\n",
        "plt.subplot(1, 3, 1)\n",
        "plt.title('Math Scores')\n",
        "sns.violinplot(y='math_score', data = df, color = 'red', linewidth = 3)\n",
        "plt.yticks(range(0,100, 10))\n",
        "\n",
        "plt.subplot(1, 3, 2)\n",
        "plt.title('Reading Scores')\n",
        "sns.violinplot(y = 'reading_score', data = df, color = 'green', linewidth = 3)\n",
        "plt.yticks(range(0, 100, 10))\n",
        "\n",
        "plt.subplot(1, 3, 3)\n",
        "plt.title('Writing Scores')\n",
        "sns.violinplot(y = 'writing_score', data = df, color = 'blue', linewidth= 3)\n",
        "plt.yticks(range(0, 100, 10))\n",
        "\n",
        "plt.show()"
      ],
      "metadata": {
        "id": "LCISSeI1KhQU"
      },
      "execution_count": null,
      "outputs": []
    },
    {
      "cell_type": "markdown",
      "source": [
        "####Insights\n",
        "* From the above 3 plots its clearly visible that most of the students score:\n",
        "* Math: between 60 and 70\n",
        "* Reading: between 70 and 80\n",
        "* Writing: between 65 and 80"
      ],
      "metadata": {
        "id": "WzcpxOahkH4k"
      }
    },
    {
      "cell_type": "markdown",
      "source": [
        "####4.3 Multivariate analysis using pieplot"
      ],
      "metadata": {
        "id": "ER5yN5WenVVm"
      }
    },
    {
      "cell_type": "code",
      "source": [
        "plt.rcParams['figure.figsize'] = (30, 12)\n",
        "\n",
        "plt.subplot(151)\n",
        "count = df['gender'].value_counts()\n",
        "labels = 'Female', 'Male'\n",
        "color = ['Red', 'Orange']\n",
        "\n",
        "plt.pie(count, colors = color, labels = labels, autopct = '.%2f%%')\n",
        "plt.title('Gender', fontsize = 20)\n",
        "plt.axis('off')\n",
        "\n",
        "plt.subplot(152)\n",
        "size = df['race_ethnicity'].value_counts()\n",
        "labels = 'Group C', 'Group D','Group B','Group E','Group A'\n",
        "color = ['red', 'green', 'blue', 'cyan', 'orange']\n",
        "\n",
        "plt.pie(size, colors = color, labels = labels, autopct = '.%2f%%')\n",
        "plt.title('Race/Ethinicity', fontsize = 20)\n",
        "plt.axis('off')\n",
        "\n",
        "plt.subplot(153)\n",
        "sizes = df['lunch'].value_counts()\n",
        "labels = sizes.index\n",
        "color = ['red', 'green']\n",
        "\n",
        "plt.pie(sizes, colors = color, labels = labels, autopct = \".%2f%%\")\n",
        "plt.title('Lunch', fontsize = 20)\n",
        "plt.axis('off')\n",
        "\n",
        "\n",
        "plt.subplot(154)\n",
        "size = df['parental_level_of_education'].value_counts()\n",
        "labels = 'Some College', \"Associate's Degree\",'High School','Some High School',\"Bachelor's Degree\",\"Master's Degree\"\n",
        "color = ['red', 'green', 'blue', 'cyan', 'yellow', 'orange']\n",
        "\n",
        "plt.pie(size, colors = color, labels = labels, autopct = '%.2f%%')\n",
        "plt.title('Parental Education', fontsize = 20)\n",
        "plt.axis('off')\n",
        "\n",
        "plt.subplot(155)\n",
        "counts = df['test_preparation_course'].value_counts()\n",
        "label = counts.index\n",
        "colors = ['red', 'yellow']\n",
        "\n",
        "plt.pie(counts, colors = colors, labels = label, autopct = '.%2f%%')\n",
        "plt.title('Test Course', fontsize = 20)\n",
        "plt.axis('off')\n",
        "\n",
        "plt.tight_layout()\n",
        "\n",
        "\n",
        "plt.show()"
      ],
      "metadata": {
        "id": "A6fPnNmOJhkK"
      },
      "execution_count": null,
      "outputs": []
    },
    {
      "cell_type": "markdown",
      "source": [
        "####Insights\n",
        "* Number of Male and Female students is almost equal\n",
        "* Number students are greatest in Group C\n",
        "* Number of students who have standard lunch are greater\n",
        "* Number of students who have not enrolled in any test preparation course is greater\n",
        "* Number of students whose parental education is \"Some College\" is greater followed closely by \"Associate's Degree"
      ],
      "metadata": {
        "id": "SrgE1TKQrRyL"
      }
    },
    {
      "cell_type": "markdown",
      "source": [
        "#### 4.4 Feature Wise Visualization\n"
      ],
      "metadata": {
        "id": "sbJj17NzwF3l"
      }
    },
    {
      "cell_type": "markdown",
      "source": [
        "#### 4.4.1 Gender Column\n",
        "* How is distribution of Gender\n",
        "* Has gender had an effect on student's performance"
      ],
      "metadata": {
        "id": "FEuRj31BwQBN"
      }
    },
    {
      "cell_type": "markdown",
      "source": [
        "###Univariate Analysis (How is distribution of Gender)"
      ],
      "metadata": {
        "id": "V_yw3KVgwi1J"
      }
    },
    {
      "cell_type": "code",
      "source": [
        "fig, axes = plt.subplots(1, 2, figsize=(14, 6))\n",
        "\n",
        "# Bar plot on the first subplot\n",
        "sns.countplot(x='gender', data=df, palette='Set2', ax=axes[0])\n",
        "axes[0].set_title('Gender Count')\n",
        "\n",
        "# Pie chart on the second subplot\n",
        "df['gender'].value_counts().plot.pie(\n",
        "    ax=axes[1],\n",
        "    autopct='%1.1f%%',\n",
        "    colors=['#66b3ff', '#ff9999'],\n",
        "    labels=['Male', 'Female'],\n",
        "    explode=[0, 0.1],\n",
        "    shadow=True\n",
        ")\n",
        "axes[1].set_title('Gender Distribution')\n",
        "axes[1].set_ylabel('')\n",
        "\n",
        "plt.tight_layout()\n",
        "plt.show()"
      ],
      "metadata": {
        "id": "XXF6kHtBwKj5"
      },
      "execution_count": null,
      "outputs": []
    },
    {
      "cell_type": "markdown",
      "source": [
        "####Gender has balanced data with female students are 518 (48%) and male students are 482 (52%)\n"
      ],
      "metadata": {
        "id": "pI3CQ66L2PMq"
      }
    },
    {
      "cell_type": "markdown",
      "source": [
        "###BIVARIATE ANALYSIS\n",
        "Has gender had an effect on student's performance"
      ],
      "metadata": {
        "id": "FpZrbE7U2aF5"
      }
    },
    {
      "cell_type": "code",
      "source": [
        "gender_group = df.groupby('gender').mean(numeric_only = True)\n",
        "gender_group"
      ],
      "metadata": {
        "id": "CIkobjlIqGez"
      },
      "execution_count": null,
      "outputs": []
    },
    {
      "cell_type": "code",
      "source": [
        "plt.figure(figsize = (10, 8))\n",
        "\n",
        "X = ['Total Average', 'Math Average']\n",
        "\n",
        "female_scores = [gender_group['average'][0], gender_group['math_score'][0]]\n",
        "male_scores = [gender_group['average'][1], gender_group['math_score'][1]]\n",
        "\n",
        "X_axis = np.arange(len(X))\n",
        "\n",
        "plt.bar(X_axis - 0.2, male_scores, 0.4, label = 'Male')\n",
        "plt.bar(X_axis + 0.2, female_scores, 0.4, label = 'Female')\n",
        "\n",
        "plt.xticks(X_axis, X)\n",
        "plt.ylabel(\"Marks\")\n",
        "plt.title(\"Total average v/s Math average marks of both the genders\", fontweight='bold')\n",
        "plt.legend()\n",
        "plt.show()\n"
      ],
      "metadata": {
        "id": "E2GzoWkW2jv6"
      },
      "execution_count": null,
      "outputs": []
    },
    {
      "cell_type": "markdown",
      "source": [
        "\n",
        "Insights\n",
        "* On an average females have a better overall score than men.\n",
        "* Males have scored higher in Maths."
      ],
      "metadata": {
        "id": "kytLRQYm4Jgv"
      }
    },
    {
      "cell_type": "markdown",
      "source": [
        "\n",
        "####4.4.2 RACE/ETHINICITY COLUMN\n",
        "* How is Group wise distribution ?\n",
        "* Is Race/Ethinicity has any impact on student's performance ?\n",
        "####UNIVARIATE ANALYSIS ( How is Group wise distribution ?)\n",
        "\n"
      ],
      "metadata": {
        "id": "aOEs9x9r4T2H"
      }
    },
    {
      "cell_type": "code",
      "source": [
        "fig, axes = plt.subplots(1, 2, figsize = (14, 6))\n",
        "\n",
        "sns.countplot(x = 'race_ethnicity', data = df, ax = axes[0], palette = 'Set2')\n",
        "axes[0].set_title('Race Count')\n",
        "axes[0].bar_label(axes[0].containers[0], fontsize = 12)\n",
        "\n",
        "df['race_ethnicity'].value_counts().plot.pie(\n",
        "    ax = axes[1],\n",
        "    autopct = \"%1.1f%%\",\n",
        "    labels = ['Group C', 'Group D','Group B','Group E','Group A'],\n",
        "    color = ['red', 'green', 'blue', 'cyan', 'orange'],\n",
        "    explode = [0.1, 0.1, 0.1, 0.1, 0.1],\n",
        "    shadow = True\n",
        ")\n",
        "axes[1].set_title('Gender Distribution')\n",
        "axes[1].set_ylabel('')  # Hide y-axis label\n",
        "\n",
        "plt.tight_layout()\n",
        "plt.show()"
      ],
      "metadata": {
        "id": "82t1k9TH4BJP"
      },
      "execution_count": null,
      "outputs": []
    },
    {
      "cell_type": "markdown",
      "source": [
        "* Most of the student belonging from group C /group D.\n",
        "* Lowest number of students belong to groupA."
      ],
      "metadata": {
        "id": "cqc7nf5GQA7x"
      }
    },
    {
      "cell_type": "code",
      "source": [
        "race_group = df.groupby('race_ethnicity').mean(numeric_only=True)\n",
        "race_group"
      ],
      "metadata": {
        "id": "L-nCFKvkAU2V"
      },
      "execution_count": null,
      "outputs": []
    },
    {
      "cell_type": "code",
      "source": [
        "Group_data2=df.groupby('race_ethnicity')\n",
        "f,ax=plt.subplots(1,3,figsize=(20,8))\n",
        "sns.barplot(x=Group_data2['math_score'].mean().index,y=Group_data2['math_score'].mean().values,palette = 'mako',ax=ax[0])\n",
        "ax[0].set_title('Math score',color='#005ce6',size=20)\n",
        "\n",
        "for container in ax[0].containers:\n",
        "    ax[0].bar_label(container,color='black',size=15)\n",
        "\n",
        "sns.barplot(x=Group_data2['reading_score'].mean().index,y=Group_data2['reading_score'].mean().values,palette = 'flare',ax=ax[1])\n",
        "ax[1].set_title('Reading score',color='#005ce6',size=20)\n",
        "\n",
        "for container in ax[1].containers:\n",
        "    ax[1].bar_label(container,color='black',size=15)\n",
        "\n",
        "sns.barplot(x=Group_data2['writing_score'].mean().index,y=Group_data2['writing_score'].mean().values,palette = 'coolwarm',ax=ax[2])\n",
        "ax[2].set_title('Writing score',color='#005ce6',size=20)\n",
        "\n",
        "for container in ax[2].containers:\n",
        "    ax[2].bar_label(container,color='black',size=15)"
      ],
      "metadata": {
        "id": "OiYJxiWRQI3u"
      },
      "execution_count": null,
      "outputs": []
    },
    {
      "cell_type": "markdown",
      "source": [
        "* Group E students have scored the highest marks.\n",
        "* Group A students have scored the lowest marks.\n",
        "* Students from a lower Socioeconomic status have a lower avg in all course subjects."
      ],
      "metadata": {
        "id": "HmUpcIWWQLlY"
      }
    },
    {
      "cell_type": "markdown",
      "source": [
        "###4.4.3 PARENTAL LEVEL OF EDUCATION COLUMN\n",
        "* What is educational background of student's parent ?\n",
        "* Is parental education has any impact on student's performance ?\n",
        "###UNIVARIATE ANALYSIS ( What is educational background of student's parent ? )"
      ],
      "metadata": {
        "id": "CxNuQI9OQSZZ"
      }
    },
    {
      "cell_type": "code",
      "source": [
        "fig, axes = plt.subplots(1, 2, figsize=(14, 6))\n",
        "\n",
        "# Univariate\n",
        "sns.countplot(y='parental_level_of_education', data=df, ax=axes[0], palette='coolwarm')\n",
        "axes[0].set_title('Parental Education Count')\n",
        "axes[0].bar_label(axes[0].containers[0], fontsize=10)\n",
        "\n",
        "# Bivariate\n",
        "df['parental_level_of_education'].value_counts().plot.pie(\n",
        "    ax=axes[1],\n",
        "    autopct='%1.1f%%',\n",
        "    labels=df['parental_level_of_education'].value_counts().index,\n",
        "    colors=sns.color_palette('pastel'),\n",
        "    explode=[0.05]*len(df['parental_level_of_education'].unique()),\n",
        "    shadow=True\n",
        ")\n",
        "axes[1].set_title('Parental Education Distribution')\n",
        "axes[1].set_ylabel('')\n",
        "\n",
        "plt.tight_layout()\n",
        "plt.show()\n"
      ],
      "metadata": {
        "id": "0aK4Xz7n6Mxn"
      },
      "execution_count": null,
      "outputs": []
    },
    {
      "cell_type": "markdown",
      "source": [
        "Largest number of parents are from some college."
      ],
      "metadata": {
        "id": "WTZqQ1GtQbvt"
      }
    },
    {
      "cell_type": "code",
      "source": [
        "parent_edu_group = df.groupby('parental_level_of_education').mean(numeric_only=True)\n",
        "parent_edu_group\n"
      ],
      "metadata": {
        "id": "N-r45615AZKA"
      },
      "execution_count": null,
      "outputs": []
    },
    {
      "cell_type": "markdown",
      "source": [
        "\n",
        "###BIVARIATE ANALYSIS ( Is parental education has any impact on student's performance ? )"
      ],
      "metadata": {
        "id": "GW6S6JDQQu3Z"
      }
    },
    {
      "cell_type": "code",
      "source": [
        "f,ax=plt.subplots(1,2,figsize=(20,8))\n",
        "sns.countplot(x=df['parental_level_of_education'],data=df,palette = 'bright',hue='parental_level_of_education',saturation=0.95,ax=ax[0])\n",
        "ax[0].set_title('Students vs test preparation course ',color='black',size=25)\n",
        "for container in ax[0].containers:\n",
        "    ax[0].bar_label(container,color='black',size=20)\n",
        "\n",
        "sns.countplot(x=df['parental_level_of_education'],data=df,palette = 'bright',hue='lunch',saturation=0.95,ax=ax[1])\n",
        "for container in ax[1].containers:\n",
        "    ax[1].bar_label(container,color='black',size=20)"
      ],
      "metadata": {
        "id": "JL585gb4Qe-U"
      },
      "execution_count": null,
      "outputs": []
    },
    {
      "cell_type": "markdown",
      "source": [
        "The score of student whose parents possess master and bachelor level education are higher than others."
      ],
      "metadata": {
        "id": "UhprbY_UQqDK"
      }
    },
    {
      "cell_type": "markdown",
      "source": [
        "###.4.4 LUNCH COLUMN\n",
        "* Which type of lunch is most common amoung students ?\n",
        "* What is the effect of lunch type on test results?\n",
        "###UNIVARIATE ANALYSIS ( Which type of lunch is most common amoung students ? )"
      ],
      "metadata": {
        "id": "qcySFSdKQx8-"
      }
    },
    {
      "cell_type": "code",
      "source": [
        "fig, axes = plt.subplots(1, 2, figsize=(14, 6))\n",
        "\n",
        "# Univariate\n",
        "sns.countplot(x='lunch', data=df, ax=axes[0], palette='Accent')\n",
        "axes[0].set_title('Lunch Type Count')\n",
        "axes[0].bar_label(axes[0].containers[0], fontsize=12)\n",
        "\n",
        "# Bivariate\n",
        "df['lunch'].value_counts().plot.pie(\n",
        "    ax=axes[1],\n",
        "    autopct='%1.1f%%',\n",
        "    labels=df['lunch'].value_counts().index,\n",
        "    colors=['#c2c2f0', '#ffb3e6'],\n",
        "    explode=[0, 0.1],\n",
        "    shadow=True\n",
        ")\n",
        "axes[1].set_title('Lunch Type Distribution')\n",
        "axes[1].set_ylabel('')\n",
        "\n",
        "plt.tight_layout()\n",
        "plt.show()\n"
      ],
      "metadata": {
        "id": "2R4nw7Ep9dCf"
      },
      "execution_count": null,
      "outputs": []
    },
    {
      "cell_type": "markdown",
      "source": [
        "Students being served Standard lunch was more than free lunch\n"
      ],
      "metadata": {
        "id": "fLAbPno-Q7o3"
      }
    },
    {
      "cell_type": "markdown",
      "source": [
        "###BIVARIATE ANALYSIS ( Is lunch type intake has any impact on student's performance ? )"
      ],
      "metadata": {
        "id": "rcsyc8DLRBMb"
      }
    },
    {
      "cell_type": "code",
      "source": [
        "lunch_group = df.groupby('lunch').mean(numeric_only=True)\n",
        "lunch_group"
      ],
      "metadata": {
        "id": "1HYoJaNCAdZg"
      },
      "execution_count": null,
      "outputs": []
    },
    {
      "cell_type": "code",
      "source": [
        "\n",
        "f,ax=plt.subplots(1,2,figsize=(20,8))\n",
        "sns.countplot(x=df['parental_level_of_education'],data=df,palette = 'bright',hue='test_preparation_course',saturation=0.95,ax=ax[0])\n",
        "ax[0].set_title('Students vs test preparation course ',color='black',size=25)\n",
        "for container in ax[0].containers:\n",
        "    ax[0].bar_label(container,color='black',size=20)\n",
        "\n",
        "sns.countplot(x=df['parental_level_of_education'],data=df,palette = 'bright',hue='lunch',saturation=0.95,ax=ax[1])\n",
        "for container in ax[1].containers:\n",
        "    ax[1].bar_label(container,color='black',size=20)"
      ],
      "metadata": {
        "id": "e_rfx74xRG6h"
      },
      "execution_count": null,
      "outputs": []
    },
    {
      "cell_type": "markdown",
      "source": [
        "Students who get Standard Lunch tend to perform better than students who got free/reduced lunch\n",
        "###4.4.5 TEST PREPARATION COURSE COLUMN\n",
        "* Which type of lunch is most common amoung students ?\n",
        "* Is Test prepration course has any impact on student's performance ?\n"
      ],
      "metadata": {
        "id": "I2fCrLrKRGig"
      }
    },
    {
      "cell_type": "markdown",
      "source": [
        "### BIVARIATE ANALYSIS ( Is Test prepration course has any impact on student's performance ? )"
      ],
      "metadata": {
        "id": "ek3u1EGERWE6"
      }
    },
    {
      "cell_type": "code",
      "source": [
        "fig, axes = plt.subplots(1, 2, figsize=(14, 6))\n",
        "\n",
        "# Univariate\n",
        "sns.countplot(x='test_preparation_course', data=df, ax=axes[0], palette='spring')\n",
        "axes[0].set_title('Test Prep Course Count')\n",
        "axes[0].bar_label(axes[0].containers[0], fontsize=12)\n",
        "\n",
        "# Bivariate\n",
        "df['test_preparation_course'].value_counts().plot.pie(\n",
        "    ax=axes[1],\n",
        "    autopct='%1.1f%%',\n",
        "    labels=df['test_preparation_course'].value_counts().index,\n",
        "    colors=['#aaffc3', '#ffd8b1'],\n",
        "    explode=[0, 0.1],\n",
        "    shadow=True\n",
        ")\n",
        "axes[1].set_title('Test Prep Course Distribution')\n",
        "axes[1].set_ylabel('')\n",
        "\n",
        "plt.tight_layout()\n",
        "plt.show()\n"
      ],
      "metadata": {
        "id": "lgaju0Nv9oge"
      },
      "execution_count": null,
      "outputs": []
    },
    {
      "cell_type": "markdown",
      "source": [
        "\n",
        "### 4.4.5 TEST PREPARATION COURSE COLUMN\n",
        "* Which type of lunch is most common amoung students ?\n",
        "* Is Test prepration course has any impact on student's performance ?"
      ],
      "metadata": {
        "id": "zAOO__VDCdR7"
      }
    },
    {
      "cell_type": "markdown",
      "source": [
        "###Bivariate Analysis\n",
        "(Does Test prepration course have any impact on student's performance?)"
      ],
      "metadata": {
        "id": "P88s_KGCCT_m"
      }
    },
    {
      "cell_type": "code",
      "source": [
        "test_prep_group = df.groupby('test_preparation_course').mean(numeric_only=True)\n",
        "test_prep_group\n"
      ],
      "metadata": {
        "id": "PWT_7CHaAg2J"
      },
      "execution_count": null,
      "outputs": []
    },
    {
      "cell_type": "markdown",
      "source": [
        "Students who have completed the Test Prepration Course have scores higher in all three categories than those who haven't taken the course"
      ],
      "metadata": {
        "id": "ZDxlbtZTCFdM"
      }
    },
    {
      "cell_type": "markdown",
      "source": [
        "####4.4.6 Checking for Outliers"
      ],
      "metadata": {
        "id": "0MBIVB5MAqB0"
      }
    },
    {
      "cell_type": "code",
      "source": [
        "plt.subplots(1,4,figsize=(16,5))\n",
        "plt.subplot(141)\n",
        "sns.boxplot(df['math_score'],color='skyblue')\n",
        "plt.subplot(142)\n",
        "sns.boxplot(df['reading_score'],color='hotpink')\n",
        "plt.subplot(143)\n",
        "sns.boxplot(df['writing_score'],color='yellow')\n",
        "plt.subplot(144)\n",
        "sns.boxplot(df['average'],color='lightgreen')\n",
        "plt.show()"
      ],
      "metadata": {
        "id": "CxjTVf18Apwm"
      },
      "execution_count": null,
      "outputs": []
    },
    {
      "cell_type": "markdown",
      "source": [
        "###4.4.7 Multivariate analysis using Plot"
      ],
      "metadata": {
        "id": "2rZtE4bEBzCa"
      }
    },
    {
      "cell_type": "code",
      "source": [
        "sns.pairplot(df,hue = 'gender')\n",
        "plt.show()"
      ],
      "metadata": {
        "id": "DPmaWbWr9qrC"
      },
      "execution_count": null,
      "outputs": []
    },
    {
      "cell_type": "markdown",
      "source": [
        "Scores linearly increase with each other"
      ],
      "metadata": {
        "id": "a31mbMZZBsD2"
      }
    },
    {
      "cell_type": "markdown",
      "source": [
        "###5. Conclusions\n",
        "* Student's Performance is related with lunch, race, parental level education\n",
        "* Females lead in pass percentage and also are top-scorers\n",
        "* Student's performance is not related with test preparation course\n",
        "* Finishing the preparation course is benefitial."
      ],
      "metadata": {
        "id": "8Vpeau-CBbH9"
      }
    }
  ]
}