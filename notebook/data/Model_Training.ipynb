{
  "nbformat": 4,
  "nbformat_minor": 0,
  "metadata": {
    "colab": {
      "private_outputs": true,
      "provenance": []
    },
    "kernelspec": {
      "name": "python3",
      "display_name": "Python 3"
    },
    "language_info": {
      "name": "python"
    }
  },
  "cells": [
    {
      "cell_type": "markdown",
      "source": [
        "#Model Training"
      ],
      "metadata": {
        "id": "kVK8qAbDT6VY"
      }
    },
    {
      "cell_type": "markdown",
      "source": [
        "####Import Data and Required Packages\n",
        "Importing Pandas, Numpy, Matplotlib, Seaborn and Warings Library."
      ],
      "metadata": {
        "id": "fZM1n8wTUCwL"
      }
    },
    {
      "cell_type": "code",
      "source": [
        "#basic imports\n",
        "import numpy as np\n",
        "import matplotlib.pyplot as plt\n",
        "import seaborn as sns\n",
        "import pandas as pd\n",
        "\n",
        "#models\n",
        "from sklearn.tree import DecisionTreeRegressor\n",
        "from sklearn.metrics import mean_squared_error, r2_score, mean_squared_error, mean_absolute_error\n",
        "from sklearn.neighbors import KNeighborsRegressor\n",
        "from sklearn.ensemble import RandomForestRegressor,AdaBoostRegressor\n",
        "from sklearn.svm import SVR\n",
        "from sklearn.linear_model import LinearRegression, Ridge, Lasso\n",
        "from sklearn.model_selection import RandomizedSearchCV\n",
        "\n",
        "#!pip install catboost > /dev/null\n",
        "from catboost import CatBoostRegressor\n",
        "\n",
        "from xgboost import XGBRegressor\n",
        "import warnings"
      ],
      "metadata": {
        "id": "DF45E7_bT-W8"
      },
      "execution_count": null,
      "outputs": []
    },
    {
      "cell_type": "code",
      "source": [
        "df = pd.read_csv('/content/stud.csv')"
      ],
      "metadata": {
        "id": "PiElJMKcVBy4"
      },
      "execution_count": null,
      "outputs": []
    },
    {
      "cell_type": "markdown",
      "source": [
        "####Preparing X and Y variables\n"
      ],
      "metadata": {
        "id": "XRx2PNepWLP1"
      }
    },
    {
      "cell_type": "code",
      "source": [
        "X = df.drop(columns=['math_score'], axis =1)"
      ],
      "metadata": {
        "id": "f0v_RcPvWIIs"
      },
      "execution_count": null,
      "outputs": []
    },
    {
      "cell_type": "code",
      "source": [
        "X.head()"
      ],
      "metadata": {
        "id": "x-_hAKvUXTaR"
      },
      "execution_count": null,
      "outputs": []
    },
    {
      "cell_type": "code",
      "source": [
        "y = df['math_score']\n",
        "y"
      ],
      "metadata": {
        "id": "ETrZFpPXXYTF"
      },
      "execution_count": null,
      "outputs": []
    },
    {
      "cell_type": "markdown",
      "source": [
        "####Setting up a data preprocessing pipeline"
      ],
      "metadata": {
        "id": "0QV7o-DPX6Y2"
      }
    },
    {
      "cell_type": "code",
      "source": [
        "#identify feature types\n",
        "num_features = X.select_dtypes(exclude = 'object').columns\n",
        "cat_features = X.select_dtypes(include = 'object').columns\n",
        "\n",
        "#preprocessing\n",
        "from sklearn.preprocessing import OneHotEncoder, StandardScaler\n",
        "from sklearn.compose import ColumnTransformer\n",
        "\n",
        "#defining transformers\n",
        "numeric_transformer = StandardScaler()\n",
        "cat_transformer = OneHotEncoder()\n",
        "\n",
        "#combine both\n",
        "preprocessor = ColumnTransformer(\n",
        "    [\n",
        "        (\"OneHotEncoder\", cat_transformer, cat_features),\n",
        "        (\"StandardScalar\", numeric_transformer, num_features)\n",
        "    ]\n",
        ")\n",
        "\n",
        "X = preprocessor.fit_transform(X)"
      ],
      "metadata": {
        "id": "AL_ysFFLXdLF"
      },
      "execution_count": null,
      "outputs": []
    },
    {
      "cell_type": "code",
      "source": [
        "X.shape"
      ],
      "metadata": {
        "id": "IFBAEqEVYPzE"
      },
      "execution_count": null,
      "outputs": []
    },
    {
      "cell_type": "code",
      "source": [
        "#seperating dataset into train and test\n",
        "from sklearn.model_selection import train_test_split\n",
        "X_train, X_test, y_train, y_test = train_test_split(X, y, test_size = 0.2, random_state = 42)\n",
        "X_train.shape, X_test.shape"
      ],
      "metadata": {
        "id": "bR2rKwlhZXSS"
      },
      "execution_count": null,
      "outputs": []
    },
    {
      "cell_type": "markdown",
      "source": [
        "####Create an Evaluate Function to give all metrics after model Training\n"
      ],
      "metadata": {
        "id": "PSPze0oUZwEY"
      }
    },
    {
      "cell_type": "code",
      "source": [
        "def evaluate_model(true, predicted):\n",
        "    mae = mean_absolute_error(true, predicted)\n",
        "    mse = mean_squared_error(true, predicted)\n",
        "    rmse = np.sqrt(mean_squared_error(true, predicted))\n",
        "    r2_square = r2_score(true, predicted)\n",
        "    return mae, rmse, r2_square"
      ],
      "metadata": {
        "id": "_1SCA2QZcl_b"
      },
      "execution_count": null,
      "outputs": []
    },
    {
      "cell_type": "code",
      "source": [
        "\n",
        "model_dict = {\n",
        "    \"Linear Regression\": LinearRegression(),\n",
        "    \"Lasso\": Lasso(),\n",
        "    \"Ridge\": Ridge(),\n",
        "    \"K-Neighbors Regressor\": KNeighborsRegressor(),\n",
        "    \"Decision Tree\": DecisionTreeRegressor(),\n",
        "    \"Random Forest Regressor\": RandomForestRegressor(),\n",
        "    \"XGBRegressor\": XGBRegressor(),\n",
        "    \"CatBoosting Regressor\": CatBoostRegressor(verbose=False),\n",
        "    \"AdaBoost Regressor\": AdaBoostRegressor()\n",
        "}\n",
        "\n",
        "model_list = []\n",
        "r2_list = []"
      ],
      "metadata": {
        "id": "QdP1AvFkZr99"
      },
      "execution_count": null,
      "outputs": []
    },
    {
      "cell_type": "code",
      "source": [
        "for name, model in model_dict.items():\n",
        "    model.fit(X_train, y_train)\n",
        "\n",
        "    y_train_pred = model.predict(X_train)\n",
        "    y_test_pred = model.predict(X_test)\n",
        "\n",
        "    model_train_mae, model_train_rmse, model_train_r2 = evaluate_model(y_train, y_train_pred)\n",
        "    model_test_mae, model_test_rmse, model_test_r2 = evaluate_model(y_test, y_test_pred)\n"
      ],
      "metadata": {
        "id": "xc2wC42xbDIT"
      },
      "execution_count": null,
      "outputs": []
    },
    {
      "cell_type": "code",
      "source": [
        "print(list(model_dict.keys())[i])\n",
        "model_list.append(list(models.keys())[i])\n",
        "print('Model performance for Training Set')\n",
        "print(\"- Root Mean Squared Error: {:.4f}\".format(model_train_rmse))\n",
        "print(\"- Mean Absolute Error: {:.4f}\".format(model_train_mae))\n",
        "print(\"- R2 Score: {:.4f}\".format(model_train_r2))\n",
        "print('----------------------------------')\n",
        "print('Model performance for Test set')\n",
        "print(\"- Root Mean Squared Error: {:.4f}\".format(model_test_rmse))\n",
        "print(\"- Mean Absolute Error: {:.4f}\".format(model_test_mae))\n",
        "print(\"- R2 Score: {:.4f}\".format(model_test_r2))"
      ],
      "metadata": {
        "id": "6n0LxCvJcKpv"
      },
      "execution_count": null,
      "outputs": []
    },
    {
      "cell_type": "code",
      "source": [
        "r2_list.append(model_test_r2)\n",
        "print('='*35)\n",
        "print('\\n')"
      ],
      "metadata": {
        "id": "MDGRlZL6e8dd"
      },
      "execution_count": null,
      "outputs": []
    },
    {
      "cell_type": "code",
      "source": [
        "pd.DataFrame(list(zip(model_list, r2_list)), columns=['Model Name', 'R2_Score']).sort_values(by=[\"R2_Score\"],ascending=False)"
      ],
      "metadata": {
        "id": "dnhWHnyUf70N"
      },
      "execution_count": null,
      "outputs": []
    },
    {
      "cell_type": "markdown",
      "source": [
        "###Linear Regression"
      ],
      "metadata": {
        "id": "xwLJsRVUgdHz"
      }
    },
    {
      "cell_type": "code",
      "source": [
        "lin_model = LinearRegression(fit_intercept=True)\n",
        "lin_model = lin_model.fit(X_train, y_train)\n",
        "y_pred = lin_model.predict(X_test)\n",
        "score = r2_score(y_test, y_pred)*100\n",
        "print(\" Accuracy of the model is %.2f\" %score)"
      ],
      "metadata": {
        "id": "MpKwDjo9gSCm"
      },
      "execution_count": null,
      "outputs": []
    },
    {
      "cell_type": "markdown",
      "source": [
        "Plot y_pred and y_test"
      ],
      "metadata": {
        "id": "CeLQuB1Tgjyv"
      }
    },
    {
      "cell_type": "code",
      "source": [
        "plt.scatter(y_test,y_pred);\n",
        "plt.xlabel('Actual');\n",
        "plt.ylabel('Predicted');"
      ],
      "metadata": {
        "id": "5lVgH8--gkPf"
      },
      "execution_count": null,
      "outputs": []
    },
    {
      "cell_type": "code",
      "source": [
        "sns.regplot(x=y_test,y=y_pred,ci=None,color ='red');"
      ],
      "metadata": {
        "id": "-FtQkJMbgp7m"
      },
      "execution_count": null,
      "outputs": []
    },
    {
      "cell_type": "markdown",
      "source": [
        "Difference between Actual and Predicted Values"
      ],
      "metadata": {
        "id": "m9sa4aghgtDE"
      }
    },
    {
      "cell_type": "code",
      "source": [
        "pred_df=pd.DataFrame({'Actual Value':y_test,'Predicted Value':y_pred,'Difference':y_test-y_pred})\n",
        "pred_df"
      ],
      "metadata": {
        "id": "HouP0FeRguTi"
      },
      "execution_count": null,
      "outputs": []
    }
  ]
}